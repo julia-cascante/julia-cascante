{
  "nbformat": 4,
  "nbformat_minor": 0,
  "metadata": {
    "colab": {
      "provenance": [],
      "authorship_tag": "ABX9TyMnHp5tnEHpuGl5ev5BBTm7",
      "include_colab_link": true
    },
    "kernelspec": {
      "name": "python3",
      "display_name": "Python 3"
    },
    "language_info": {
      "name": "python"
    }
  },
  "cells": [
    {
      "cell_type": "markdown",
      "metadata": {
        "id": "view-in-github",
        "colab_type": "text"
      },
      "source": [
        "<a href=\"https://colab.research.google.com/github/julia-cascante/julia-cascante/blob/main/Julia_Cascante_Solucion_1.ipynb\" target=\"_parent\"><img src=\"https://colab.research.google.com/assets/colab-badge.svg\" alt=\"Open In Colab\"/></a>"
      ]
    },
    {
      "cell_type": "code",
      "source": [],
      "metadata": {
        "id": "qkHSPTv9uLcq"
      },
      "execution_count": null,
      "outputs": []
    },
    {
      "cell_type": "markdown",
      "source": [
        "Kaggle experimentation data set: https://www.kaggle.com/datasets/uom190346a/disease-symptoms-and-patient-profile-dataset?resource=download.\n"
      ],
      "metadata": {
        "id": "zLjtz4AmQM_B"
      }
    },
    {
      "cell_type": "markdown",
      "source": [
        "Selección del directorio en google drive"
      ],
      "metadata": {
        "id": "NgOgOs0ZU7i7"
      }
    },
    {
      "cell_type": "code",
      "source": [
        "from google.colab import drive\n",
        "drive.mount('/content/drive')"
      ],
      "metadata": {
        "id": "iTa_zKJB4L__",
        "colab": {
          "base_uri": "https://localhost:8080/"
        },
        "outputId": "170c512d-5086-41ce-b6a4-ff638b1d5106"
      },
      "execution_count": null,
      "outputs": [
        {
          "output_type": "stream",
          "name": "stdout",
          "text": [
            "Mounted at /content/drive\n"
          ]
        }
      ]
    },
    {
      "cell_type": "code",
      "source": [
        "%cd /content/drive/MyDrive/CENAT"
      ],
      "metadata": {
        "id": "LaccGMfq4W9v",
        "colab": {
          "base_uri": "https://localhost:8080/"
        },
        "outputId": "1690332e-9a0f-4727-bec4-67e30e7b91b2"
      },
      "execution_count": null,
      "outputs": [
        {
          "output_type": "stream",
          "name": "stdout",
          "text": [
            "/content/drive/MyDrive/CENAT\n"
          ]
        }
      ]
    },
    {
      "cell_type": "code",
      "source": [
        "!ls"
      ],
      "metadata": {
        "colab": {
          "base_uri": "https://localhost:8080/"
        },
        "id": "IBx99IMqTwA_",
        "outputId": "f927b401-bdb5-418e-e31f-b7ae4e5d0789"
      },
      "execution_count": null,
      "outputs": [
        {
          "output_type": "stream",
          "name": "stdout",
          "text": [
            "Disease_symptom_and_patient_profile_dataset.csv\n"
          ]
        }
      ]
    },
    {
      "cell_type": "markdown",
      "source": [
        "Visualizacion del set de datos"
      ],
      "metadata": {
        "id": "7C_41TsCVSEJ"
      }
    },
    {
      "cell_type": "code",
      "source": [
        "import pandas as pd\n",
        "\n",
        "# Read the CSV file into a DataFrame\n",
        "df = pd.read_csv('Disease_symptom_and_patient_profile_dataset.csv')\n",
        "\n",
        "# Print the DataFrame\n",
        "print(df)"
      ],
      "metadata": {
        "colab": {
          "base_uri": "https://localhost:8080/"
        },
        "id": "DUZC8dFHVkgX",
        "outputId": "8ff3d67c-ae90-400c-9d0b-7c12435f01b6"
      },
      "execution_count": null,
      "outputs": [
        {
          "output_type": "stream",
          "name": "stdout",
          "text": [
            "         Disease Fever Cough Fatigue Difficulty Breathing  Age  Gender  \\\n",
            "0      Influenza   Yes    No     Yes                  Yes   19  Female   \n",
            "1    Common Cold    No   Yes     Yes                   No   25  Female   \n",
            "2         Eczema    No   Yes     Yes                   No   25  Female   \n",
            "3         Asthma   Yes   Yes      No                  Yes   25    Male   \n",
            "4         Asthma   Yes   Yes      No                  Yes   25    Male   \n",
            "..           ...   ...   ...     ...                  ...  ...     ...   \n",
            "344       Stroke   Yes    No     Yes                   No   80  Female   \n",
            "345       Stroke   Yes    No     Yes                   No   85    Male   \n",
            "346       Stroke   Yes    No     Yes                   No   85    Male   \n",
            "347       Stroke   Yes    No     Yes                   No   90  Female   \n",
            "348       Stroke   Yes    No     Yes                   No   90  Female   \n",
            "\n",
            "    Blood Pressure Cholesterol Level Outcome Variable  \n",
            "0              Low            Normal         Positive  \n",
            "1           Normal            Normal         Negative  \n",
            "2           Normal            Normal         Negative  \n",
            "3           Normal            Normal         Positive  \n",
            "4           Normal            Normal         Positive  \n",
            "..             ...               ...              ...  \n",
            "344           High              High         Positive  \n",
            "345           High              High         Positive  \n",
            "346           High              High         Positive  \n",
            "347           High              High         Positive  \n",
            "348           High              High         Positive  \n",
            "\n",
            "[349 rows x 10 columns]\n"
          ]
        }
      ]
    },
    {
      "cell_type": "markdown",
      "source": [
        "Las variables del set de datos relacionan los síntomas como por ejemplo fiebre, tos, fatiga y dificultad respiratoria con respecto al tipo de enfermedad como la influenza, el asma, etc. Mediante estas variables podríamos crear un modelo de aprendizaje supervisado midiendo los inputs positivos de los síntomas que desplieguen un output del tipo de enfermedad padecida.\n"
      ],
      "metadata": {
        "id": "u9d1hPxmWgEb"
      }
    }
  ]
}