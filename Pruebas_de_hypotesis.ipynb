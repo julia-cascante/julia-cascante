{
  "nbformat": 4,
  "nbformat_minor": 0,
  "metadata": {
    "colab": {
      "provenance": [],
      "authorship_tag": "ABX9TyOOhPoOCLDwTLA2KWKOspF5",
      "include_colab_link": true
    },
    "kernelspec": {
      "name": "python3",
      "display_name": "Python 3"
    },
    "language_info": {
      "name": "python"
    }
  },
  "cells": [
    {
      "cell_type": "markdown",
      "metadata": {
        "id": "view-in-github",
        "colab_type": "text"
      },
      "source": [
        "<a href=\"https://colab.research.google.com/github/julia-cascante/julia-cascante/blob/main/Pruebas_de_hypotesis.ipynb\" target=\"_parent\"><img src=\"https://colab.research.google.com/assets/colab-badge.svg\" alt=\"Open In Colab\"/></a>"
      ]
    },
    {
      "cell_type": "markdown",
      "source": [
        "Data load"
      ],
      "metadata": {
        "id": "aCifPYzbvsgZ"
      }
    },
    {
      "cell_type": "code",
      "source": [
        "from google.colab import drive and drive.mount('/content/drive')"
      ],
      "metadata": {
        "id": "P5fAzadvxD0_"
      },
      "execution_count": null,
      "outputs": []
    },
    {
      "cell_type": "markdown",
      "source": [
        "Estimación de Intervalos de Confianza para el grupo A\n",
        "\n",
        "> Add blockquote\n",
        "\n"
      ],
      "metadata": {
        "id": "tSQpE2VTytr0"
      }
    },
    {
      "cell_type": "code",
      "source": [
        "ic_grupo_A <- t.test(datos_satisfaccion$Satisfaccion[datos_satisfaccion$Grupo == \"A\"])$conf.int"
      ],
      "metadata": {
        "id": "F7qbDoFXy1PW"
      },
      "execution_count": null,
      "outputs": []
    },
    {
      "cell_type": "markdown",
      "source": [
        "Estimación de Intervalos de Confianza para el grupo B\n"
      ],
      "metadata": {
        "id": "tNdZl_Y5y8ru"
      }
    },
    {
      "cell_type": "code",
      "source": [
        "ic_grupo_B <- t.test(datos_satisfaccion$Satisfaccion[datos_satisfaccion$Grupo == \"B\"])$conf.int\n"
      ],
      "metadata": {
        "id": "972gVDCYy_mQ"
      },
      "execution_count": null,
      "outputs": []
    },
    {
      "cell_type": "markdown",
      "source": [
        "Resultados"
      ],
      "metadata": {
        "id": "YKJlrVIxzClF"
      }
    },
    {
      "cell_type": "code",
      "source": [
        "cat(\"Intervalo de Confianza del 95% para Grupo A:\", ic_grupo_A, \"\\n\")\n",
        "cat(\"Intervalo de Confianza del 95% para Grupo B:\", ic_grupo_B, \"\\n\")\n"
      ],
      "metadata": {
        "id": "6DIvCT5fzN5O"
      },
      "execution_count": null,
      "outputs": []
    },
    {
      "cell_type": "markdown",
      "source": [
        "Utilizacion de shapiro.test para saber si el conjunto de datos sigue una distribucion normal."
      ],
      "metadata": {
        "id": "gHN32-3SzV55"
      }
    },
    {
      "cell_type": "markdown",
      "source": [
        "Prueba de normalidad para el grupo A"
      ],
      "metadata": {
        "id": "UEOj2tZpzof_"
      }
    },
    {
      "cell_type": "code",
      "source": [
        "resultado_shapiro_A <- shapiro.test(datos_satisfaccion$Satisfaccion[datos_satisfaccion$Grupo==\"A\"])\n",
        "cat(\"Resultado de la Prueba de Shapiro-Wilk para el Grupo A:\\n\")\n",
        "print(resultado_shapiro_A)\n"
      ],
      "metadata": {
        "id": "DYWDpFhkzrC8"
      },
      "execution_count": null,
      "outputs": []
    },
    {
      "cell_type": "markdown",
      "source": [
        "Prueba de normalidad para el grupo B"
      ],
      "metadata": {
        "id": "bKGRbeGtzwfx"
      }
    },
    {
      "cell_type": "code",
      "source": [
        "resultado_shapiro_B <- shapiro.test(datos_satisfaccion$Satisfaccion[datos_satisfaccion$Grupo==\"B\"])\n",
        "cat(\"Resultado de la Prueba de Shapiro-Wilk para el Grupo B:\\n\")\n",
        "print(resultado_shapiro_B)\n"
      ],
      "metadata": {
        "id": "xygu1ASVzzJN"
      },
      "execution_count": null,
      "outputs": []
    },
    {
      "cell_type": "markdown",
      "source": [
        "Pruebas de hipotesis. Prueba t de dos muestras para comparar la satisfacción promedio entre los dos grupos.\n"
      ],
      "metadata": {
        "id": "i5jTx4-mz89I"
      }
    },
    {
      "cell_type": "code",
      "source": [
        "prueba_t <- t.test(Satisfaccion ~ Grupo, data = datos_satisfaccion)\n"
      ],
      "metadata": {
        "id": "1-WEfRq40Csw"
      },
      "execution_count": null,
      "outputs": []
    },
    {
      "cell_type": "markdown",
      "source": [
        "Resultados de la prueba"
      ],
      "metadata": {
        "id": "XcV8O9xz0KXm"
      }
    },
    {
      "cell_type": "code",
      "source": [
        "cat(\"Resultado de la Prueba t de dos muestras:\\n\")\n",
        "print(prueba_t)\n"
      ],
      "metadata": {
        "id": "ichP10c00Mz_"
      },
      "execution_count": null,
      "outputs": []
    }
  ]
}