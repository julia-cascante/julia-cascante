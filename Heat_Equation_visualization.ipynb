{
  "nbformat": 4,
  "nbformat_minor": 0,
  "metadata": {
    "colab": {
      "provenance": [],
      "authorship_tag": "ABX9TyPrxBVazS/zjI/artLZF8A1",
      "include_colab_link": true
    },
    "kernelspec": {
      "name": "python3",
      "display_name": "Python 3"
    },
    "language_info": {
      "name": "python"
    }
  },
  "cells": [
    {
      "cell_type": "markdown",
      "metadata": {
        "id": "view-in-github",
        "colab_type": "text"
      },
      "source": [
        "<a href=\"https://colab.research.google.com/github/julia-cascante/julia-cascante/blob/main/Heat_Equation_visualization.ipynb\" target=\"_parent\"><img src=\"https://colab.research.google.com/assets/colab-badge.svg\" alt=\"Open In Colab\"/></a>"
      ]
    },
    {
      "cell_type": "markdown",
      "source": [],
      "metadata": {
        "id": "3T5XunP0DanI"
      }
    },
    {
      "cell_type": "markdown",
      "source": [
        "Importing libraries"
      ],
      "metadata": {
        "id": "yvn9OAYADeI2"
      }
    },
    {
      "cell_type": "code",
      "source": [
        "import numpy as np\n",
        "import matplotlib.pyplot as plt"
      ],
      "metadata": {
        "id": "hrwnIpR9DiB_"
      },
      "execution_count": 1,
      "outputs": []
    },
    {
      "cell_type": "markdown",
      "source": [
        "Parameters"
      ],
      "metadata": {
        "id": "velZ0lP7DlVx"
      }
    },
    {
      "cell_type": "code",
      "source": [
        "L = 1.0     # Length of the rod\n",
        "T = 1.0     # Final time\n",
        "Nx = 100    # Number of grid points in space\n",
        "Nt = 1000   # Number of time steps\n",
        "alpha = 1.0 # Thermal diffusivity"
      ],
      "metadata": {
        "id": "oZs237huDmsx"
      },
      "execution_count": 2,
      "outputs": []
    },
    {
      "cell_type": "code",
      "source": [
        "dx = L / Nx\n",
        "dt = T / Nt\n",
        "r = alpha * dt / dx**2"
      ],
      "metadata": {
        "id": "rGzpEdYODsL2"
      },
      "execution_count": 3,
      "outputs": []
    },
    {
      "cell_type": "markdown",
      "source": [
        "Initial conditions as a rectangle function"
      ],
      "metadata": {
        "id": "0SYY0EOVDvoA"
      }
    },
    {
      "cell_type": "code",
      "source": [
        "u = np.zeros(Nx + 1)\n",
        "u[int(0.4*Nx):int(0.6*Nx)] = 1.0"
      ],
      "metadata": {
        "id": "9RliJNqHD0sL"
      },
      "execution_count": 4,
      "outputs": []
    },
    {
      "cell_type": "markdown",
      "source": [
        "Finite scheme, this is important for reproducibility with different experiments"
      ],
      "metadata": {
        "id": "vFfzUj3LD6C2"
      }
    },
    {
      "cell_type": "code",
      "source": [
        "for n in range(Nt):\n",
        "    un = u.copy()\n",
        "    for i in range(1, Nx):\n",
        "        u[i] = un[i] + r * (un[i+1] - 2*un[i] + un[i-1])"
      ],
      "metadata": {
        "colab": {
          "base_uri": "https://localhost:8080/"
        },
        "id": "yl1kZfreEBrz",
        "outputId": "ffa39c28-36c8-439e-a456-f63cf0b844b0"
      },
      "execution_count": 5,
      "outputs": [
        {
          "output_type": "stream",
          "name": "stderr",
          "text": [
            "<ipython-input-5-903955836a95>:4: RuntimeWarning: overflow encountered in scalar multiply\n",
            "  u[i] = un[i] + r * (un[i+1] - 2*un[i] + un[i-1])\n",
            "<ipython-input-5-903955836a95>:4: RuntimeWarning: overflow encountered in scalar add\n",
            "  u[i] = un[i] + r * (un[i+1] - 2*un[i] + un[i-1])\n",
            "<ipython-input-5-903955836a95>:4: RuntimeWarning: overflow encountered in scalar subtract\n",
            "  u[i] = un[i] + r * (un[i+1] - 2*un[i] + un[i-1])\n",
            "<ipython-input-5-903955836a95>:4: RuntimeWarning: invalid value encountered in scalar add\n",
            "  u[i] = un[i] + r * (un[i+1] - 2*un[i] + un[i-1])\n",
            "<ipython-input-5-903955836a95>:4: RuntimeWarning: invalid value encountered in scalar subtract\n",
            "  u[i] = un[i] + r * (un[i+1] - 2*un[i] + un[i-1])\n"
          ]
        }
      ]
    },
    {
      "cell_type": "markdown",
      "source": [
        "Ploting"
      ],
      "metadata": {
        "id": "n-xuQ3A4EGu3"
      }
    },
    {
      "cell_type": "code",
      "source": [
        "x = np.linspace(0, L, Nx+1)\n",
        "plt.plot(x, u)\n",
        "plt.title('Solution of the 1D Heat Equation')\n",
        "plt.xlabel('x')\n",
        "plt.ylabel('Temperature')\n",
        "plt.grid(True)\n",
        "plt.show()"
      ],
      "metadata": {
        "colab": {
          "base_uri": "https://localhost:8080/",
          "height": 472
        },
        "id": "hEsstC1kEIFe",
        "outputId": "37c7eb02-97d0-4c23-f468-300bb77595bf"
      },
      "execution_count": 6,
      "outputs": [
        {
          "output_type": "display_data",
          "data": {
            "text/plain": [
              "<Figure size 640x480 with 1 Axes>"
            ],
            "image/png": "[encoded data removed]"
          },
          "metadata": {}
        }
      ]
    }
  ]
}